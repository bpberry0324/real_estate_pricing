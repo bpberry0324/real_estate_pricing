{
 "cells": [
  {
   "cell_type": "markdown",
   "id": "1a883bed-4fff-4d31-9ee4-8855314799a5",
   "metadata": {},
   "source": [
    "## Data Cleaning"
   ]
  },
  {
   "cell_type": "markdown",
   "id": "e1d6fbcd-3699-480a-b86e-c00a1f8c605e",
   "metadata": {},
   "source": [
    "What follows reflects the primary steps taken to clean both the training and the testing data for what follows. Where possible, the code  redirects longer outputs of summary statistics and column information to text and spreadsheet files in the `cleaning` folder of the parent directory. This is done to keep the notebook as concise as possible, while allowing for more thorough crossreference where necessary. \n",
    "\n",
    "As always, initial imports are necessary (though not many for this stage):"
   ]
  },
  {
   "cell_type": "code",
   "execution_count": 1,
   "id": "7ebdd187-3967-4303-889f-f47005caca99",
   "metadata": {},
   "outputs": [],
   "source": [
    "import pandas as pd\n",
    "import numpy as np"
   ]
  },
  {
   "cell_type": "markdown",
   "id": "ed4a0c67-41fc-4139-9e20-2e79c1c497e1",
   "metadata": {},
   "source": [
    "Cleaning of training data can never take place that far apart from that of the corresponding testing data. Files are read into their respective dataframes:"
   ]
  },
  {
   "cell_type": "code",
   "execution_count": 2,
   "id": "8833afde-c1f0-4182-b936-91ddb49d536c",
   "metadata": {},
   "outputs": [],
   "source": [
    "train = pd.read_csv('../datasets/train.csv')\n",
    "test = pd.read_csv('../datasets/test.csv')"
   ]
  },
  {
   "cell_type": "markdown",
   "id": "b2abebaf-4d29-4fce-b196-5f1adcc71eff",
   "metadata": {},
   "source": [
    "Below, column lists are read to external files, and are converted to snake case in their dataframes for consistency. The `salesprice` column is handled manually.\n",
    "\n",
    "Summary information for each dataset is written to its own external file as well."
   ]
  },
  {
   "cell_type": "code",
   "execution_count": 3,
   "id": "3670396e-0baa-4f5e-9e24-cf6fce71e0f0",
   "metadata": {},
   "outputs": [],
   "source": [
    "train.columns.to_series(index = None).to_csv('../cleaning/01_1_initial_columns_list_train.csv')\n",
    "test.columns.to_series(index = None).to_csv('../cleaning/01_2_initial_columns_list_test.csv')"
   ]
  },
  {
   "cell_type": "code",
   "execution_count": 4,
   "id": "5c159b77-19d7-48fe-b762-fef045bd8a84",
   "metadata": {},
   "outputs": [],
   "source": [
    "train.rename( columns = {item : item.lower().replace(' ', '_') for item in train.columns.tolist()}, inplace = True )\n",
    "train.rename( columns = {'saleprice' : 'sale_price'}, inplace = True)\n",
    "\n",
    "test.rename( columns = {item : item.lower().replace(' ', '_') for item in test.columns.tolist()}, inplace = True )\n",
    "test.rename( columns = {'saleprice' : 'sale_price'}, inplace = True)"
   ]
  },
  {
   "cell_type": "code",
   "execution_count": 5,
   "id": "03f08e91-ca6f-4668-bde7-f68ceb88794f",
   "metadata": {},
   "outputs": [],
   "source": [
    "train.describe().to_csv('../cleaning/02_1_initial_summary_train.csv')\n",
    "train.describe().to_csv('../cleaning/02_2_initial_summary_test.csv')"
   ]
  },
  {
   "cell_type": "code",
   "execution_count": 6,
   "id": "63edcbcf-672d-4a1b-830b-64be12f54601",
   "metadata": {},
   "outputs": [],
   "source": [
    "with open('../cleaning/03_1_initial_info_train.txt', 'w') as f1:\n",
    "    train.info(buf=f1)\n",
    "with open('../cleaning/03_2_initial_info_test.txt', 'w') as f2:\n",
    "    test.info(buf=f2)"
   ]
  },
  {
   "cell_type": "markdown",
   "id": "e9e02a29-d6a0-4af6-bd81-27c1f81b725f",
   "metadata": {},
   "source": [
    "As evidenced by the many null values across both tables seen in the intial readouts, the first step for preparing this data is to ensure that all columns that make it into the final dataframe are full.\n",
    "\n",
    "Null values in the `lot frontage` columns apparently represent numeric values of `0`. Null values in the `alley` column are taken to signify a lack of alley access for the properties in question. Columns are revised to reflect these values."
   ]
  },
  {
   "cell_type": "code",
   "execution_count": 7,
   "id": "6a772179-2e43-40f0-a40f-7e63634df173",
   "metadata": {},
   "outputs": [
    {
     "data": {
      "text/plain": [
       "21.0     18\n",
       "24.0     16\n",
       "28.0      1\n",
       "30.0      1\n",
       "31.0      1\n",
       "         ..\n",
       "152.0     1\n",
       "160.0     2\n",
       "168.0     1\n",
       "174.0     1\n",
       "182.0     1\n",
       "Name: lot_frontage, Length: 104, dtype: int64"
      ]
     },
     "execution_count": 7,
     "metadata": {},
     "output_type": "execute_result"
    }
   ],
   "source": [
    "train['lot_frontage'].value_counts().sort_index()\n",
    "test['lot_frontage'].value_counts().sort_index()"
   ]
  },
  {
   "cell_type": "code",
   "execution_count": 8,
   "id": "ecb6d2f5-356c-411c-9e6e-61b645842569",
   "metadata": {},
   "outputs": [],
   "source": [
    "train['lot_frontage'].replace(np.nan, 0.0, inplace = True)\n",
    "test['lot_frontage'].replace(np.nan, 0.0, inplace = True)"
   ]
  },
  {
   "cell_type": "code",
   "execution_count": 9,
   "id": "bae4c68c-c73a-44c6-abb3-f388e5505c2b",
   "metadata": {},
   "outputs": [
    {
     "data": {
      "text/plain": [
       "Grvl    35\n",
       "Pave    23\n",
       "Name: alley, dtype: int64"
      ]
     },
     "execution_count": 9,
     "metadata": {},
     "output_type": "execute_result"
    }
   ],
   "source": [
    "train['alley'].value_counts().sort_index()\n",
    "test['alley'].value_counts().sort_index()"
   ]
  },
  {
   "cell_type": "code",
   "execution_count": 10,
   "id": "b079dc36-70a7-405f-a581-bcf02e05be80",
   "metadata": {},
   "outputs": [],
   "source": [
    "train['alley'].replace(np.nan, 'None', inplace = True)\n",
    "test['alley'].replace(np.nan, 'None', inplace = True)"
   ]
  },
  {
   "cell_type": "markdown",
   "id": "7f185fa0-163b-4d79-836d-bb715c172ca0",
   "metadata": {},
   "source": [
    "Because a number of columns relate to one another necessarily, they must in some sense be validated together. It's important that cells lacking values only be filled with information that makes sense and is consistent with the rest of the entry. (In the example below, a mason veneer cannot have an area of zero square feet and still have a 'type'.) What follows checks both dataframes for any such mismatches."
   ]
  },
  {
   "cell_type": "code",
   "execution_count": 11,
   "id": "190e83c6-e7c9-4a11-8570-7bb4e3df5b86",
   "metadata": {},
   "outputs": [
    {
     "data": {
      "text/plain": [
       "mas_vnr_type    0\n",
       "mas_vnr_area    0\n",
       "dtype: int64"
      ]
     },
     "execution_count": 11,
     "metadata": {},
     "output_type": "execute_result"
    }
   ],
   "source": [
    "train[(train['mas_vnr_area'] != 0) & (train['mas_vnr_type'].isnull())][['mas_vnr_type', 'mas_vnr_area']].notnull().sum()"
   ]
  },
  {
   "cell_type": "code",
   "execution_count": 12,
   "id": "343b9327-30a1-4499-a2c4-f12ce04c4b2f",
   "metadata": {},
   "outputs": [
    {
     "data": {
      "text/plain": [
       "mas_vnr_type    0\n",
       "mas_vnr_area    0\n",
       "dtype: int64"
      ]
     },
     "execution_count": 12,
     "metadata": {},
     "output_type": "execute_result"
    }
   ],
   "source": [
    "test[(test['mas_vnr_area'] != 0) & (test['mas_vnr_type'].isnull())][['mas_vnr_type', 'mas_vnr_area']].notnull().sum()"
   ]
  },
  {
   "cell_type": "markdown",
   "id": "7806d331-d4f3-4750-a4cd-3294466ab52e",
   "metadata": {},
   "source": [
    "With everything in order, it's safe to fill the cells current empty in both the `mas_vnr_type` column and the `mas_vnr_area` column with meaningful values."
   ]
  },
  {
   "cell_type": "code",
   "execution_count": 13,
   "id": "35aac661-b7ca-4dfa-b1eb-e1b22870b95b",
   "metadata": {},
   "outputs": [],
   "source": [
    "train.loc[(train['mas_vnr_area'] != 0) & (train['mas_vnr_type'].isnull()), ['mas_vnr_type', 'mas_vnr_area']] = 'None', 0\n",
    "test.loc[(test['mas_vnr_area'] != 0) & (test['mas_vnr_type'].isnull()), ['mas_vnr_type', 'mas_vnr_area']] = 'None', 0"
   ]
  },
  {
   "cell_type": "markdown",
   "id": "97528fcb-6941-43a8-8b35-80451e929930",
   "metadata": {},
   "source": [
    "Another cluster of related columns consists of a sundry assortment of basement information. The function and its subsequent passing in the two cells below gives a sense of what values these columns hold. "
   ]
  },
  {
   "cell_type": "code",
   "execution_count": 14,
   "id": "2109b9d7-98e9-4cb3-95b4-b28b37f262f3",
   "metadata": {},
   "outputs": [],
   "source": [
    "def bsmt_vals(df, df_name):\n",
    "    column_list = ['bsmt_qual', 'bsmt_cond', 'bsmt_exposure',\n",
    "                   'bsmtfin_type_1', 'bsmtfin_sf_1', 'bsmtfin_type_2',\n",
    "                   'bsmt_unf_sf', 'total_bsmt_sf']\n",
    "    \n",
    "    for item in column_list:\n",
    "        print(item)\n",
    "        print(df[item].value_counts())"
   ]
  },
  {
   "cell_type": "code",
   "execution_count": 15,
   "id": "8cab4f97-3aa5-4b11-9f83-2335756817e0",
   "metadata": {},
   "outputs": [
    {
     "name": "stdout",
     "output_type": "stream",
     "text": [
      "bsmt_qual\n",
      "TA    887\n",
      "Gd    864\n",
      "Ex    184\n",
      "Fa     60\n",
      "Po      1\n",
      "Name: bsmt_qual, dtype: int64\n",
      "bsmt_cond\n",
      "TA    1834\n",
      "Gd      89\n",
      "Fa      65\n",
      "Po       5\n",
      "Ex       3\n",
      "Name: bsmt_cond, dtype: int64\n",
      "bsmt_exposure\n",
      "No    1339\n",
      "Av     288\n",
      "Gd     203\n",
      "Mn     163\n",
      "Name: bsmt_exposure, dtype: int64\n",
      "bsmtfin_type_1\n",
      "GLQ    615\n",
      "Unf    603\n",
      "ALQ    293\n",
      "BLQ    200\n",
      "Rec    183\n",
      "LwQ    102\n",
      "Name: bsmtfin_type_1, dtype: int64\n",
      "bsmtfin_sf_1\n",
      "0.0       657\n",
      "24.0       17\n",
      "16.0       10\n",
      "20.0        7\n",
      "384.0       7\n",
      "         ... \n",
      "718.0       1\n",
      "900.0       1\n",
      "918.0       1\n",
      "1619.0      1\n",
      "1159.0      1\n",
      "Name: bsmtfin_sf_1, Length: 821, dtype: int64\n",
      "bsmtfin_type_2\n",
      "Unf    1749\n",
      "Rec      80\n",
      "LwQ      60\n",
      "BLQ      48\n",
      "ALQ      35\n",
      "GLQ      23\n",
      "Name: bsmtfin_type_2, dtype: int64\n",
      "bsmt_unf_sf\n",
      "0.0       165\n",
      "384.0      14\n",
      "672.0      11\n",
      "728.0      10\n",
      "816.0       9\n",
      "         ... \n",
      "266.0       1\n",
      "20.0        1\n",
      "521.0       1\n",
      "109.0       1\n",
      "1211.0      1\n",
      "Name: bsmt_unf_sf, Length: 967, dtype: int64\n",
      "total_bsmt_sf\n",
      "0.0       54\n",
      "864.0     51\n",
      "1040.0    20\n",
      "672.0     20\n",
      "816.0     17\n",
      "          ..\n",
      "1129.0     1\n",
      "946.0      1\n",
      "1236.0     1\n",
      "2220.0     1\n",
      "973.0      1\n",
      "Name: total_bsmt_sf, Length: 892, dtype: int64\n"
     ]
    }
   ],
   "source": [
    "bsmt_vals(train, 'train')"
   ]
  },
  {
   "cell_type": "code",
   "execution_count": 16,
   "id": "5ed47894-d47d-4fb8-953b-064b98abdb1f",
   "metadata": {},
   "outputs": [
    {
     "name": "stdout",
     "output_type": "stream",
     "text": [
      "bsmt_qual\n",
      "TA    396\n",
      "Gd    355\n",
      "Ex     73\n",
      "Fa     28\n",
      "Po      1\n",
      "Name: bsmt_qual, dtype: int64\n",
      "bsmt_cond\n",
      "TA    781\n",
      "Fa     39\n",
      "Gd     33\n",
      "Name: bsmt_cond, dtype: int64\n",
      "bsmt_exposure\n",
      "No    567\n",
      "Av    130\n",
      "Gd     80\n",
      "Mn     76\n",
      "Name: bsmt_exposure, dtype: int64\n",
      "bsmtfin_type_1\n",
      "Unf    248\n",
      "GLQ    243\n",
      "ALQ    136\n",
      "Rec    105\n",
      "BLQ     69\n",
      "LwQ     52\n",
      "Name: bsmtfin_type_1, dtype: int64\n",
      "bsmtfin_sf_1\n",
      "0       273\n",
      "24       10\n",
      "662       4\n",
      "16        4\n",
      "936       4\n",
      "       ... \n",
      "1387      1\n",
      "1260      1\n",
      "360       1\n",
      "1383      1\n",
      "1022      1\n",
      "Name: bsmtfin_sf_1, Length: 462, dtype: int64\n",
      "bsmtfin_type_2\n",
      "Unf    749\n",
      "LwQ     29\n",
      "Rec     26\n",
      "BLQ     20\n",
      "ALQ     18\n",
      "GLQ     11\n",
      "Name: bsmtfin_type_2, dtype: int64\n",
      "bsmt_unf_sf\n",
      "0       79\n",
      "270      7\n",
      "840      5\n",
      "572      5\n",
      "100      5\n",
      "        ..\n",
      "1368     1\n",
      "1367     1\n",
      "339      1\n",
      "338      1\n",
      "2046     1\n",
      "Name: bsmt_unf_sf, Length: 562, dtype: int64\n",
      "total_bsmt_sf\n",
      "0       25\n",
      "864     23\n",
      "768     10\n",
      "780      9\n",
      "912      9\n",
      "        ..\n",
      "1580     1\n",
      "1578     1\n",
      "407      1\n",
      "1574     1\n",
      "2552     1\n",
      "Name: total_bsmt_sf, Length: 526, dtype: int64\n"
     ]
    }
   ],
   "source": [
    "bsmt_vals(test, 'test')"
   ]
  },
  {
   "cell_type": "markdown",
   "id": "260c41aa-142b-4301-8416-a5bf7519fd86",
   "metadata": {},
   "source": [
    "As with the columns related to masonry veneer, the basement items need their empty cells converted accordingly. Below a brief function handles this, imputing `'None'` for string columns and `0` for numeric columns. "
   ]
  },
  {
   "cell_type": "code",
   "execution_count": 17,
   "id": "cfbf8ad4-4d84-414f-ba0f-0595b1dcffee",
   "metadata": {},
   "outputs": [],
   "source": [
    "def bsmt_cln(df):\n",
    "    to_none_list = ['bsmt_qual', 'bsmt_cond', 'bsmt_exposure',\n",
    "                    'bsmtfin_type_1', 'bsmtfin_type_2']\n",
    "    to_zero_list = ['bsmtfin_sf_1', 'bsmtfin_sf_2','bsmt_unf_sf', 'total_bsmt_sf']\n",
    "    \n",
    "    for item in to_none_list:\n",
    "        df[item].replace([np.nan, 'No'], 'None', inplace = True)\n",
    "    for item in to_zero_list:\n",
    "        df[item].replace(np.nan, 0, inplace = True)"
   ]
  },
  {
   "cell_type": "code",
   "execution_count": 18,
   "id": "be19ba01-558d-4fbd-90de-6a1c234a9750",
   "metadata": {},
   "outputs": [],
   "source": [
    "bsmt_cln(train)\n",
    "bsmt_cln(test)"
   ]
  },
  {
   "cell_type": "markdown",
   "id": "41a6bf70-fade-4711-ba2c-e372b00d46e3",
   "metadata": {},
   "source": [
    "For the empty cell in the `electrical` column of our test datset, a lack of information to crossreference makes its handling difficult. Lest we assume the property has no electricity, it is listed as having \"all public utilities\", of which electricity is a member. Here it will be listed as \"Unknown\"."
   ]
  },
  {
   "cell_type": "code",
   "execution_count": 19,
   "id": "6d582e88-0c14-41f1-958d-7b2fa21a2c6f",
   "metadata": {},
   "outputs": [],
   "source": [
    "test['electrical'].replace(np.nan, 'Unknown', inplace = True)"
   ]
  },
  {
   "cell_type": "markdown",
   "id": "559d4acb-8776-4988-8820-197f5e307f82",
   "metadata": {},
   "source": [
    "A couple more empty basement values in the training dataset, but fortunately, this seems consistent with other information included for these listings (i.e., a lack of surface area, or a lack of basement). These cells have numeric values inserted for consistency with their respective column datatypes."
   ]
  },
  {
   "cell_type": "code",
   "execution_count": 20,
   "id": "4693539a-b0cc-48e9-b663-75df6c92c6a8",
   "metadata": {},
   "outputs": [
    {
     "data": {
      "text/html": [
       "<div>\n",
       "<style scoped>\n",
       "    .dataframe tbody tr th:only-of-type {\n",
       "        vertical-align: middle;\n",
       "    }\n",
       "\n",
       "    .dataframe tbody tr th {\n",
       "        vertical-align: top;\n",
       "    }\n",
       "\n",
       "    .dataframe thead th {\n",
       "        text-align: right;\n",
       "    }\n",
       "</style>\n",
       "<table border=\"1\" class=\"dataframe\">\n",
       "  <thead>\n",
       "    <tr style=\"text-align: right;\">\n",
       "      <th></th>\n",
       "      <th>bsmt_full_bath</th>\n",
       "      <th>bsmt_half_bath</th>\n",
       "      <th>total_bsmt_sf</th>\n",
       "    </tr>\n",
       "  </thead>\n",
       "  <tbody>\n",
       "    <tr>\n",
       "      <th>616</th>\n",
       "      <td>NaN</td>\n",
       "      <td>NaN</td>\n",
       "      <td>0.0</td>\n",
       "    </tr>\n",
       "    <tr>\n",
       "      <th>1327</th>\n",
       "      <td>NaN</td>\n",
       "      <td>NaN</td>\n",
       "      <td>0.0</td>\n",
       "    </tr>\n",
       "  </tbody>\n",
       "</table>\n",
       "</div>"
      ],
      "text/plain": [
       "      bsmt_full_bath  bsmt_half_bath  total_bsmt_sf\n",
       "616              NaN             NaN            0.0\n",
       "1327             NaN             NaN            0.0"
      ]
     },
     "execution_count": 20,
     "metadata": {},
     "output_type": "execute_result"
    }
   ],
   "source": [
    "train[(train['bsmt_full_bath'].isnull() | train['bsmt_half_bath'].isnull())][['bsmt_full_bath', 'bsmt_half_bath', 'total_bsmt_sf']]"
   ]
  },
  {
   "cell_type": "code",
   "execution_count": 21,
   "id": "c3644a7b-a64f-413c-8e42-c8e9d2b98a4f",
   "metadata": {},
   "outputs": [],
   "source": [
    "train['bsmt_full_bath'].replace(np.nan, 0, inplace=True)\n",
    "train['bsmt_half_bath'].replace(np.nan, 0, inplace=True)"
   ]
  },
  {
   "cell_type": "markdown",
   "id": "8db3296b-6000-454c-b8bb-7c4416b9f3a3",
   "metadata": {},
   "source": [
    "Onward to fireplaces, which are also recorded as having numeric values. In the few cells below, again we make sure that there are no listings for fireplace quality where there are no fireplaces, and that no fireplaces are listed where fireplace quality is not listed. \n",
    "\n",
    "The purpose here is to provide a greater degree of certainty to the `'None'` and `0` values we add to these cells, and that the columns for each entry tell a consistent story."
   ]
  },
  {
   "cell_type": "code",
   "execution_count": 22,
   "id": "993c245f-d0ec-4eb7-bbca-8356baaaca81",
   "metadata": {},
   "outputs": [
    {
     "data": {
      "text/plain": [
       "0    1000\n",
       "1     898\n",
       "2     146\n",
       "3       6\n",
       "4       1\n",
       "Name: fireplaces, dtype: int64"
      ]
     },
     "execution_count": 22,
     "metadata": {},
     "output_type": "execute_result"
    }
   ],
   "source": [
    "train['fireplaces'].value_counts()"
   ]
  },
  {
   "cell_type": "code",
   "execution_count": 23,
   "id": "b929bcef-611c-4a11-99c8-10162aee093b",
   "metadata": {},
   "outputs": [
    {
     "data": {
      "text/plain": [
       "(0, 0)"
      ]
     },
     "execution_count": 23,
     "metadata": {},
     "output_type": "execute_result"
    }
   ],
   "source": [
    "train.loc[train['fireplace_qu'].isnull()]['fireplaces'].sum(), test.loc[test['fireplace_qu'].isnull()]['fireplaces'].sum()"
   ]
  },
  {
   "cell_type": "code",
   "execution_count": 24,
   "id": "a64d778e-8bd3-4625-a13e-f918d0efd0b2",
   "metadata": {},
   "outputs": [
    {
     "data": {
      "text/plain": [
       "(Series([], Name: fireplace_qu, dtype: int64),\n",
       " Series([], Name: fireplace_qu, dtype: int64))"
      ]
     },
     "execution_count": 24,
     "metadata": {},
     "output_type": "execute_result"
    }
   ],
   "source": [
    "train.query('fireplaces == 0')['fireplace_qu'].value_counts(), test.query('fireplaces == 0')['fireplace_qu'].value_counts()"
   ]
  },
  {
   "cell_type": "markdown",
   "id": "8d0440d7-39f5-4c37-84a6-eb9883587715",
   "metadata": {},
   "source": [
    "Here we fill the fireplace columns accordingly:"
   ]
  },
  {
   "cell_type": "code",
   "execution_count": 25,
   "id": "35dd4602-b4ae-49ff-8140-42d61febfff8",
   "metadata": {},
   "outputs": [],
   "source": [
    "train['fireplace_qu'].replace(np.nan, 'None', inplace = True)\n",
    "test['fireplace_qu'].replace(np.nan, 'None', inplace = True)"
   ]
  },
  {
   "cell_type": "markdown",
   "id": "e5a24c91-40f3-4b93-bdfc-d418676d2110",
   "metadata": {},
   "source": [
    "Now, garage information. We replace empty cells in the `garage area` column with zeroes, as it is numeric. A note on `garage_yr_blt`. For both the training dataset and the testing datset, this column had many null values, and so as a numeric input value, it is unworkable within the scope of this project. For now we will fill these cells with `'None'` on the chance that the column might be useful as a categorical variable when the time comes."
   ]
  },
  {
   "cell_type": "code",
   "execution_count": 26,
   "id": "3eb0ff8b-3bb7-488b-9b41-79f6d6014d5f",
   "metadata": {},
   "outputs": [],
   "source": [
    "train['garage_area'].replace(np.nan, 0, inplace = True)\n",
    "test['garage_area'].replace(np.nan, 0, inplace = True)\n",
    "train['garage_yr_blt'].replace(np.nan, 'None', inplace = True)\n",
    "test['garage_yr_blt'].replace(np.nan, 'None', inplace = True)"
   ]
  },
  {
   "cell_type": "markdown",
   "id": "eaa76214-c17d-470e-9c6c-b2972cd99117",
   "metadata": {},
   "source": [
    "Again, doing some crossreferencing within each entry for columns related to the garage (where there is one). Checking for any rows where there is no garage but garage traits are listed. Also checking for properties that have garages but lack trait listings."
   ]
  },
  {
   "cell_type": "code",
   "execution_count": 27,
   "id": "97ff56f8-0a49-4ca3-ab59-32c79721729a",
   "metadata": {},
   "outputs": [
    {
     "data": {
      "text/plain": [
       "garage_finish      0\n",
       "garage_qual        0\n",
       "garage_cond        0\n",
       "garage_cars      0.0\n",
       "dtype: object"
      ]
     },
     "execution_count": 27,
     "metadata": {},
     "output_type": "execute_result"
    }
   ],
   "source": [
    "train[train['garage_area'] == 0][['garage_type', 'garage_finish', 'garage_qual', 'garage_cond', 'garage_cars']].sum()\n"
   ]
  },
  {
   "cell_type": "code",
   "execution_count": 28,
   "id": "573a6c41-14e0-49f1-b339-8f84fab353d0",
   "metadata": {},
   "outputs": [
    {
     "data": {
      "text/plain": [
       "garage_type      0\n",
       "garage_finish    0\n",
       "garage_qual      0\n",
       "garage_cond      0\n",
       "dtype: int64"
      ]
     },
     "execution_count": 28,
     "metadata": {},
     "output_type": "execute_result"
    }
   ],
   "source": [
    "train[train['garage_area'] != 0][['garage_type', 'garage_finish', 'garage_qual', 'garage_cond']].isnull().sum()\n"
   ]
  },
  {
   "cell_type": "code",
   "execution_count": 29,
   "id": "f3054608-4d6a-4f0b-a2cf-0da5553b0329",
   "metadata": {},
   "outputs": [
    {
     "data": {
      "text/plain": [
       "garage_type      0\n",
       "garage_finish    0\n",
       "garage_qual      0\n",
       "garage_cond      0\n",
       "garage_cars      0\n",
       "dtype: object"
      ]
     },
     "execution_count": 29,
     "metadata": {},
     "output_type": "execute_result"
    }
   ],
   "source": [
    "test[test['garage_area'] == 0][['garage_type', 'garage_finish', 'garage_qual', 'garage_cond', 'garage_cars']].sum()\n"
   ]
  },
  {
   "cell_type": "markdown",
   "id": "2e36bb0b-6420-4066-b0f0-d96129bd3a30",
   "metadata": {},
   "source": [
    "Below, an entry in the testing dataset shows some missing categorical information where there is a garage (i.e., where the square footage of the garage is not equal to `0`)."
   ]
  },
  {
   "cell_type": "code",
   "execution_count": 30,
   "id": "6abfff72-396c-41a8-ab80-bf5c186a210d",
   "metadata": {},
   "outputs": [
    {
     "data": {
      "text/plain": [
       "garage_type      0\n",
       "garage_finish    1\n",
       "garage_qual      1\n",
       "garage_cond      1\n",
       "dtype: int64"
      ]
     },
     "execution_count": 30,
     "metadata": {},
     "output_type": "execute_result"
    }
   ],
   "source": [
    "test[test['garage_area'] != 0][['garage_type', 'garage_finish', 'garage_qual', 'garage_cond']].isnull().sum()"
   ]
  },
  {
   "cell_type": "markdown",
   "id": "ef940646-2546-4161-8a0d-2c39a3742ceb",
   "metadata": {},
   "source": [
    "These cells have their values set as `'Unknown'` to make the test dataset manageable in the modeling to come:"
   ]
  },
  {
   "cell_type": "code",
   "execution_count": 31,
   "id": "c2574050-4c36-4acf-bfb7-8ccd0ec4da6d",
   "metadata": {},
   "outputs": [],
   "source": [
    "mask1 = test['garage_area'] != 0\n",
    "mask2 = test['garage_finish'].isnull()\n",
    "mask3 = test['garage_qual'].isnull()\n",
    "mask4 = test['garage_cond'].isnull()\n",
    "\n",
    "test.loc[(mask1 & mask2), : 'garage_finish'] = 'Unknown'\n",
    "test.loc[(mask1 & mask3), : 'garage_qual'] = 'Unknown'\n",
    "test.loc[(mask1 & mask4), : 'garage_cond'] = 'Unknown'"
   ]
  },
  {
   "cell_type": "markdown",
   "id": "40aa48bc-d29b-429a-b9cd-d3863d307a67",
   "metadata": {},
   "source": [
    "Some final wrapping up of the garage data. The function here allows `Nan` values that \"check out\" to be replaced with meaningful information, and the code below the function applies these changes to both datasets."
   ]
  },
  {
   "cell_type": "code",
   "execution_count": 32,
   "id": "e317e435-575f-470f-a0f4-82c940ebeb1f",
   "metadata": {},
   "outputs": [],
   "source": [
    "def clean_grg(df):\n",
    "    to_none_list = ['garage_type', 'garage_finish', 'garage_qual', 'garage_cond']\n",
    "    to_zero_list = ['garage_cars']\n",
    "    \n",
    "    for item in to_none_list:\n",
    "        df[item].replace(np.nan, 'None', inplace = True)\n",
    "    for item in to_zero_list:\n",
    "        df[item].replace(np.nan, 0, inplace = True)"
   ]
  },
  {
   "cell_type": "code",
   "execution_count": 33,
   "id": "0c60f6d6-a2ea-4980-b195-677c2b4b5b6e",
   "metadata": {},
   "outputs": [],
   "source": [
    "clean_grg(train)\n",
    "clean_grg(test)"
   ]
  },
  {
   "cell_type": "code",
   "execution_count": 34,
   "id": "0e9abc34-b01f-466c-b848-506e465f32a8",
   "metadata": {},
   "outputs": [
    {
     "data": {
      "text/plain": [
       "garage_type      0\n",
       "garage_finish    0\n",
       "garage_qual      0\n",
       "garage_cond      0\n",
       "dtype: int64"
      ]
     },
     "execution_count": 34,
     "metadata": {},
     "output_type": "execute_result"
    }
   ],
   "source": [
    "train[train['garage_area'] == 0][['garage_type', 'garage_finish', 'garage_qual', 'garage_cond', 'garage_cars']].sum()\n",
    "train[train['garage_area'] != 0][['garage_type', 'garage_finish', 'garage_qual', 'garage_cond']].isnull().sum()\n",
    "test[test['garage_area'] == 0][['garage_type', 'garage_finish', 'garage_qual', 'garage_cond', 'garage_cars']].sum()\n",
    "test[test['garage_area'] != 0][['garage_type', 'garage_finish', 'garage_qual', 'garage_cond']].isnull().sum()"
   ]
  },
  {
   "cell_type": "markdown",
   "id": "6606b68d-0564-4de0-9d23-a0c99d8a1778",
   "metadata": {},
   "source": [
    "The garage data is now consistent.\n",
    "\n",
    "Below, pool information for each property is crossreferenced for consistency, and everything seems in order. The code that follows inputs meaning values where the cells are empty."
   ]
  },
  {
   "cell_type": "code",
   "execution_count": 35,
   "id": "e4870821-6c7b-4d81-8477-81ac253d4cba",
   "metadata": {},
   "outputs": [
    {
     "name": "stdout",
     "output_type": "stream",
     "text": [
      "0\n",
      "0\n",
      "0\n",
      "0\n"
     ]
    }
   ],
   "source": [
    "print(train[train['pool_qc'].isnull()]['pool_area'].sum())\n",
    "print(train[train['pool_area'] == 0]['pool_qc'].notnull().sum())\n",
    "print(test[test['pool_qc'].isnull()]['pool_area'].sum())\n",
    "print(test[test['pool_area'] == 0]['pool_qc'].notnull().sum())"
   ]
  },
  {
   "cell_type": "code",
   "execution_count": 36,
   "id": "4ae0abe4-6be5-4ef3-9ddd-ca015ec02627",
   "metadata": {},
   "outputs": [],
   "source": [
    "train['pool_qc'].replace(np.nan, 'None', inplace = True)\n",
    "test['pool_qc'].replace(np.nan, 'None', inplace = True)"
   ]
  },
  {
   "cell_type": "markdown",
   "id": "59dd432e-669b-42d0-9e56-c81577c0c6b1",
   "metadata": {},
   "source": [
    "Next, `fence` and `misc_features` seem to have their ranges of values in order, and their empty cells are polished."
   ]
  },
  {
   "cell_type": "code",
   "execution_count": 37,
   "id": "b3bb14f2-28bc-4062-8fa4-6954ec77f5ad",
   "metadata": {},
   "outputs": [
    {
     "data": {
      "text/plain": [
       "MnPrv    227\n",
       "GdPrv     83\n",
       "GdWo      80\n",
       "MnWw      10\n",
       "Name: fence, dtype: int64"
      ]
     },
     "execution_count": 37,
     "metadata": {},
     "output_type": "execute_result"
    }
   ],
   "source": [
    "train['fence'].value_counts()"
   ]
  },
  {
   "cell_type": "code",
   "execution_count": 38,
   "id": "ccd26d34-953e-45f6-ace0-372f5aac4060",
   "metadata": {},
   "outputs": [
    {
     "data": {
      "text/plain": [
       "MnPrv    103\n",
       "GdPrv     35\n",
       "GdWo      32\n",
       "MnWw       2\n",
       "Name: fence, dtype: int64"
      ]
     },
     "execution_count": 38,
     "metadata": {},
     "output_type": "execute_result"
    }
   ],
   "source": [
    "test['fence'].value_counts()"
   ]
  },
  {
   "cell_type": "code",
   "execution_count": 39,
   "id": "a4871af0-7919-4332-bfe6-a05c0c3be343",
   "metadata": {},
   "outputs": [],
   "source": [
    "train['fence'].replace(np.nan, 'None', inplace = True)\n",
    "test['fence'].replace(np.nan, 'None', inplace = True)"
   ]
  },
  {
   "cell_type": "code",
   "execution_count": 40,
   "id": "470d8a2e-d724-4beb-a02b-36ae3c7fb948",
   "metadata": {},
   "outputs": [
    {
     "data": {
      "text/plain": [
       "Shed    56\n",
       "Gar2     4\n",
       "Othr     3\n",
       "TenC     1\n",
       "Elev     1\n",
       "Name: misc_feature, dtype: int64"
      ]
     },
     "execution_count": 40,
     "metadata": {},
     "output_type": "execute_result"
    }
   ],
   "source": [
    "train['misc_feature'].value_counts()"
   ]
  },
  {
   "cell_type": "code",
   "execution_count": 41,
   "id": "ba0f811a-0452-409e-81a8-e9abb693ac1a",
   "metadata": {},
   "outputs": [
    {
     "data": {
      "text/plain": [
       "Shed    39\n",
       "Othr     1\n",
       "Gar2     1\n",
       "Name: misc_feature, dtype: int64"
      ]
     },
     "execution_count": 41,
     "metadata": {},
     "output_type": "execute_result"
    }
   ],
   "source": [
    "test['misc_feature'].value_counts()"
   ]
  },
  {
   "cell_type": "code",
   "execution_count": 42,
   "id": "c3baa5fc-86e6-4a45-aa9d-785137ea866c",
   "metadata": {},
   "outputs": [],
   "source": [
    "train['misc_feature'].replace(np.nan, 'None', inplace = True)\n",
    "test['misc_feature'].replace(np.nan, 'None', inplace = True)"
   ]
  },
  {
   "cell_type": "markdown",
   "id": "bb76187c-046f-4bb2-acd5-10fcd5b2da2b",
   "metadata": {},
   "source": [
    "Below is a small function that simply prints the minimum and the maximum values where possible to ensure that values seem reasonable. The output is long, but unltimately, nothing grabs immediate attention or sets off any alarms."
   ]
  },
  {
   "cell_type": "code",
   "execution_count": 43,
   "id": "2610a99d-f1e7-46bf-967a-ae6b80d17108",
   "metadata": {},
   "outputs": [],
   "source": [
    "def min_max_print(df):\n",
    "    for item in df.columns.tolist():\n",
    "        try:\n",
    "            print(item, '\\t', df[item].min(), '\\t', df[item].max())\n",
    "        except:\n",
    "            print(item)"
   ]
  },
  {
   "cell_type": "code",
   "execution_count": 44,
   "id": "a8b1e44b-2e27-4926-b2f2-564048589aad",
   "metadata": {},
   "outputs": [
    {
     "name": "stdout",
     "output_type": "stream",
     "text": [
      "id \t 1 \t 2930\n",
      "pid \t 526301100 \t 924152030\n",
      "ms_subclass \t 20 \t 190\n",
      "ms_zoning \t A (agr) \t RM\n",
      "lot_frontage \t 0.0 \t 313.0\n",
      "lot_area \t 1300 \t 159000\n",
      "street \t Grvl \t Pave\n",
      "alley \t Grvl \t Pave\n",
      "lot_shape \t IR1 \t Reg\n",
      "land_contour \t Bnk \t Lvl\n",
      "utilities \t AllPub \t NoSewr\n",
      "lot_config \t Corner \t Inside\n",
      "land_slope \t Gtl \t Sev\n",
      "neighborhood \t Blmngtn \t Veenker\n",
      "condition_1 \t Artery \t RRNn\n",
      "condition_2 \t Artery \t RRNn\n",
      "bldg_type \t 1Fam \t TwnhsE\n",
      "house_style \t 1.5Fin \t SLvl\n",
      "overall_qual \t 1 \t 10\n",
      "overall_cond \t 1 \t 9\n",
      "year_built \t 1872 \t 2010\n",
      "year_remod/add \t 1950 \t 2010\n",
      "roof_style \t Flat \t Shed\n",
      "roof_matl \t ClyTile \t WdShngl\n",
      "exterior_1st \t AsbShng \t WdShing\n",
      "exterior_2nd \t AsbShng \t Wd Shng\n",
      "mas_vnr_type \t BrkCmn \t Stone\n",
      "mas_vnr_area \t 0.0 \t 1600.0\n",
      "exter_qual \t Ex \t TA\n",
      "exter_cond \t Ex \t TA\n",
      "foundation \t BrkTil \t Wood\n",
      "bsmt_qual \t Ex \t TA\n",
      "bsmt_cond \t Ex \t TA\n",
      "bsmt_exposure \t Av \t None\n",
      "bsmtfin_type_1 \t ALQ \t Unf\n",
      "bsmtfin_sf_1 \t 0.0 \t 5644.0\n",
      "bsmtfin_type_2 \t ALQ \t Unf\n",
      "bsmtfin_sf_2 \t 0.0 \t 1474.0\n",
      "bsmt_unf_sf \t 0.0 \t 2336.0\n",
      "total_bsmt_sf \t 0.0 \t 6110.0\n",
      "heating \t GasA \t Wall\n",
      "heating_qc \t Ex \t TA\n",
      "central_air \t N \t Y\n",
      "electrical \t FuseA \t SBrkr\n",
      "1st_flr_sf \t 334 \t 5095\n",
      "2nd_flr_sf \t 0 \t 1862\n",
      "low_qual_fin_sf \t 0 \t 1064\n",
      "gr_liv_area \t 334 \t 5642\n",
      "bsmt_full_bath \t 0.0 \t 3.0\n",
      "bsmt_half_bath \t 0.0 \t 2.0\n",
      "full_bath \t 0 \t 4\n",
      "half_bath \t 0 \t 2\n",
      "bedroom_abvgr \t 0 \t 8\n",
      "kitchen_abvgr \t 0 \t 3\n",
      "kitchen_qual \t Ex \t TA\n",
      "totrms_abvgrd \t 2 \t 15\n",
      "functional \t Maj1 \t Typ\n",
      "fireplaces \t 0 \t 4\n",
      "fireplace_qu \t Ex \t TA\n",
      "garage_type \t 2Types \t None\n",
      "garage_yr_blt\n",
      "garage_finish \t Fin \t Unf\n",
      "garage_cars \t 0.0 \t 5.0\n",
      "garage_area \t 0.0 \t 1418.0\n",
      "garage_qual \t Ex \t TA\n",
      "garage_cond \t Ex \t TA\n",
      "paved_drive \t N \t Y\n",
      "wood_deck_sf \t 0 \t 1424\n",
      "open_porch_sf \t 0 \t 547\n",
      "enclosed_porch \t 0 \t 432\n",
      "3ssn_porch \t 0 \t 508\n",
      "screen_porch \t 0 \t 490\n",
      "pool_area \t 0 \t 800\n",
      "pool_qc \t Ex \t TA\n",
      "fence \t GdPrv \t None\n",
      "misc_feature \t Elev \t TenC\n",
      "misc_val \t 0 \t 17000\n",
      "mo_sold \t 1 \t 12\n",
      "yr_sold \t 2006 \t 2010\n",
      "sale_type \t COD \t WD \n",
      "sale_price \t 12789 \t 611657\n"
     ]
    }
   ],
   "source": [
    "min_max_print(train)"
   ]
  },
  {
   "cell_type": "code",
   "execution_count": 45,
   "id": "24540b49-173f-4c60-ae05-9a3cbfe15798",
   "metadata": {},
   "outputs": [
    {
     "name": "stdout",
     "output_type": "stream",
     "text": [
      "id\n",
      "pid\n",
      "ms_subclass\n",
      "ms_zoning \t C (all) \t Unknown\n",
      "lot_frontage\n",
      "lot_area\n",
      "street \t Grvl \t Unknown\n",
      "alley \t Grvl \t Unknown\n",
      "lot_shape \t IR1 \t Unknown\n",
      "land_contour \t Bnk \t Unknown\n",
      "utilities \t AllPub \t Unknown\n",
      "lot_config \t Corner \t Unknown\n",
      "land_slope \t Gtl \t Unknown\n",
      "neighborhood \t Blmngtn \t Veenker\n",
      "condition_1 \t Artery \t Unknown\n",
      "condition_2 \t Feedr \t Unknown\n",
      "bldg_type \t 1Fam \t Unknown\n",
      "house_style \t 1.5Fin \t Unknown\n",
      "overall_qual\n",
      "overall_cond\n",
      "year_built\n",
      "year_remod/add\n",
      "roof_style \t Flat \t Unknown\n",
      "roof_matl \t CompShg \t WdShngl\n",
      "exterior_1st \t AsbShng \t WdShing\n",
      "exterior_2nd \t AsbShng \t Wd Shng\n",
      "mas_vnr_type \t BrkCmn \t Unknown\n",
      "mas_vnr_area\n",
      "exter_qual \t Ex \t Unknown\n",
      "exter_cond \t Ex \t Unknown\n",
      "foundation \t BrkTil \t Wood\n",
      "bsmt_qual \t Ex \t Unknown\n",
      "bsmt_cond \t Fa \t Unknown\n",
      "bsmt_exposure \t Av \t Unknown\n",
      "bsmtfin_type_1 \t ALQ \t Unknown\n",
      "bsmtfin_sf_1\n",
      "bsmtfin_type_2 \t ALQ \t Unknown\n",
      "bsmtfin_sf_2\n",
      "bsmt_unf_sf\n",
      "total_bsmt_sf\n",
      "heating \t Floor \t Unknown\n",
      "heating_qc \t Ex \t Unknown\n",
      "central_air \t N \t Y\n",
      "electrical \t FuseA \t Unknown\n",
      "1st_flr_sf\n",
      "2nd_flr_sf\n",
      "low_qual_fin_sf\n",
      "gr_liv_area\n",
      "bsmt_full_bath\n",
      "bsmt_half_bath\n",
      "full_bath\n",
      "half_bath\n",
      "bedroom_abvgr\n",
      "kitchen_abvgr\n",
      "kitchen_qual \t Ex \t Unknown\n",
      "totrms_abvgrd\n",
      "functional \t Maj1 \t Unknown\n",
      "fireplaces\n",
      "fireplace_qu \t Ex \t Unknown\n",
      "garage_type \t 2Types \t Unknown\n",
      "garage_yr_blt\n",
      "garage_finish \t Fin \t Unknown\n",
      "garage_cars\n",
      "garage_area\n",
      "garage_qual \t Fa \t Unknown\n",
      "garage_cond \t Ex \t Unknown\n",
      "paved_drive \t N \t Y\n",
      "wood_deck_sf \t 0 \t 690\n",
      "open_porch_sf \t 0 \t 742\n",
      "enclosed_porch \t 0 \t 1012\n",
      "3ssn_porch \t 0 \t 360\n",
      "screen_porch \t 0 \t 576\n",
      "pool_area \t 0 \t 555\n",
      "pool_qc \t Ex \t TA\n",
      "fence \t GdPrv \t None\n",
      "misc_feature \t Gar2 \t Shed\n",
      "misc_val \t 0 \t 15500\n",
      "mo_sold \t 1 \t 12\n",
      "yr_sold \t 2006 \t 2010\n",
      "sale_type \t COD \t WD \n"
     ]
    }
   ],
   "source": [
    "min_max_print(test)"
   ]
  },
  {
   "cell_type": "markdown",
   "id": "342a943d-9afc-4f02-aedd-4114053b3e06",
   "metadata": {},
   "source": [
    "Some final information for both datasets is written again to the `cleaning` folder for reference, as are the actual revised datframes for easier access. All columns are full."
   ]
  },
  {
   "cell_type": "code",
   "execution_count": 46,
   "id": "f79f3bbd-4df7-42d4-9871-c774632c9fb4",
   "metadata": {},
   "outputs": [],
   "source": [
    "train.describe().to_csv('../cleaning/04_1_final_summary_train.csv')\n",
    "test.describe().to_csv('../cleaning/04_2_final_summary_test.csv')"
   ]
  },
  {
   "cell_type": "code",
   "execution_count": 47,
   "id": "75efd292-c949-4a05-b53b-34bcfb25262c",
   "metadata": {},
   "outputs": [],
   "source": [
    "with open('../cleaning/05_1_final_info_train.txt', 'w') as f1:\n",
    "    train.info(buf=f1)\n",
    "with open('../cleaning/05_2_final_info_test.txt', 'w') as f2:\n",
    "    test.info(buf=f2)"
   ]
  },
  {
   "cell_type": "code",
   "execution_count": 48,
   "id": "25d9d432-39a4-485d-9b6e-648dcab5d76d",
   "metadata": {},
   "outputs": [],
   "source": [
    "train.to_csv('../datasets/main_train.csv', index = False)\n",
    "test.to_csv('../datasets/main_test.csv', index = False)"
   ]
  },
  {
   "cell_type": "markdown",
   "id": "d6bae624-694c-48f5-aee3-19597491a1e4",
   "metadata": {},
   "source": [
    "The files above ([`main_train.csv`](../datasets/main_train.csv) and [`main_test.csv`](../datasets/main_test.csv)) contain the information as it initially exists during the exploratory data analysis that follows."
   ]
  }
 ],
 "metadata": {
  "kernelspec": {
   "display_name": "Python 3",
   "language": "python",
   "name": "python3"
  },
  "language_info": {
   "codemirror_mode": {
    "name": "ipython",
    "version": 3
   },
   "file_extension": ".py",
   "mimetype": "text/x-python",
   "name": "python",
   "nbconvert_exporter": "python",
   "pygments_lexer": "ipython3",
   "version": "3.8.8"
  }
 },
 "nbformat": 4,
 "nbformat_minor": 5
}
