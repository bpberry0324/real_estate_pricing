{
 "cells": [
  {
   "cell_type": "markdown",
   "id": "b7c492eb-5a39-44ab-bdb2-66d08392ad3b",
   "metadata": {},
   "source": [
    "# Appendix II: Feature Engineering"
   ]
  },
  {
   "cell_type": "markdown",
   "id": "da413498-6e2e-435c-b2c1-dd0e31132177",
   "metadata": {},
   "source": [
    "Because the aim of this survey is inferential in nature, features were engineered with interpretability in mind.\n",
    "\n",
    "We start with initial imports and file reads. Where relevant, the test dataset receives treatment identical to that of the training dataset."
   ]
  },
  {
   "cell_type": "code",
   "execution_count": 1,
   "id": "21aa0f55-f5b6-4f6d-9f26-ac82cbb3eee1",
   "metadata": {
    "tags": []
   },
   "outputs": [],
   "source": [
    "import pandas as pd\n",
    "import numpy as np\n",
    "import matplotlib.pyplot as plt\n",
    "import seaborn as sns\n",
    "\n",
    "from sklearn.model_selection import train_test_split, cross_val_score\n",
    "from sklearn.linear_model import LinearRegression\n",
    "from sklearn.preprocessing import PolynomialFeatures"
   ]
  },
  {
   "cell_type": "code",
   "execution_count": 2,
   "id": "9a7db2e1-f9bd-4cb5-b1d5-e0f6ca25a808",
   "metadata": {},
   "outputs": [],
   "source": [
    "train = pd.read_csv('../datasets/main_train.csv')\n",
    "test = pd.read_csv('../datasets/main_test.csv')\n",
    "\n",
    "train.drop(columns=['pid'], inplace = True)\n",
    "test.drop(columns=['pid'], inplace = True)"
   ]
  },
  {
   "cell_type": "markdown",
   "id": "3e096c90-b5ac-412d-b3b0-5646da025f42",
   "metadata": {},
   "source": [
    "The testing dataset had many problematic cells, resulting in a disparity of datatypes between itself and the training data. Below, a brief function allows for conversions and reasonable imputations where necessary so that the columns can \"function numerically\" with the resultant model."
   ]
  },
  {
   "cell_type": "code",
   "execution_count": 3,
   "id": "4bf9d255-8955-47bf-8d8f-f6e025fe9199",
   "metadata": {},
   "outputs": [],
   "source": [
    "def to_float(x):\n",
    "    try:\n",
    "        return float(x)\n",
    "    except:\n",
    "        return 0"
   ]
  },
  {
   "cell_type": "code",
   "execution_count": 4,
   "id": "ceedc328-5823-4521-92c1-e842eaeb561a",
   "metadata": {},
   "outputs": [],
   "source": [
    "test['lot_frontage'].replace('Unknown', 0, inplace = True)\n",
    "test['lot_frontage'] = test['lot_frontage'].astype(float)\n",
    "\n",
    "test['lot_area'].replace('Unknown', 0, inplace = True)\n",
    "test['lot_area'] = test['lot_area'].astype(int)\n",
    "\n",
    "test['overall_qual'].replace('Unknown', 5, inplace = True)\n",
    "test['overall_qual'] = test['overall_qual'].astype(int)\n",
    "\n",
    "test['overall_cond'].replace('Unknown', 5, inplace = True)\n",
    "test['overall_cond'] = test['overall_cond'].astype(int)\n",
    "\n",
    "test['year_built'].replace('Unknown', 1960, inplace = True)\n",
    "test['year_built'] = test['year_built'].astype(int)\n",
    "\n",
    "test['year_remod/add'].replace('Unknown', 1960, inplace = True)\n",
    "test['year_remod/add'] = test['year_remod/add'].astype(int)\n",
    "\n",
    "\n",
    "\n",
    "test['mas_vnr_area'] = test['mas_vnr_area'].apply(to_float)\n",
    "test['bsmtfin_sf_1'] = test['bsmtfin_sf_1'].apply(to_float)\n",
    "test['bsmtfin_sf_2'] = test['bsmtfin_sf_2'].apply(to_float)\n",
    "test['bsmt_unf_sf'] = test['bsmt_unf_sf'].apply(to_float)\n",
    "test['total_bsmt_sf'] = test['total_bsmt_sf'].apply(to_float)\n",
    "test['1st_flr_sf'] = test['1st_flr_sf'].apply(to_float).astype(int)\n",
    "test['2nd_flr_sf'] = test['2nd_flr_sf'].apply(to_float).astype(int)\n",
    "test['low_qual_fin_sf'] = test['low_qual_fin_sf'].apply(to_float).astype(int)\n",
    "test['gr_liv_area'] = test['gr_liv_area'].apply(to_float).astype(int)\n",
    "test['bsmt_full_bath'] = test['bsmt_full_bath'].apply(to_float)\n",
    "test['bsmt_half_bath'] = test['bsmt_half_bath'].apply(to_float)\n",
    "test['full_bath'] = test['full_bath'].apply(to_float).astype(int)\n",
    "test['half_bath'] = test['half_bath'].apply(to_float).astype(int)\n",
    "test['bedroom_abvgr'] = test['bedroom_abvgr'].apply(to_float).astype(int)\n",
    "test['kitchen_abvgr'] = test['kitchen_abvgr'].apply(to_float).astype(int)\n",
    "test['totrms_abvgrd'] = test['totrms_abvgrd'].apply(to_float).astype(int)\n",
    "test['fireplaces'] = test['fireplaces'].apply(to_float).astype(int)\n",
    "test['garage_cars'] = test['garage_cars'].apply(to_float)\n",
    "test['garage_area'] = test['garage_area'].apply(to_float)"
   ]
  },
  {
   "cell_type": "markdown",
   "id": "4a72f947-5bd2-4772-9c60-2e9f155aa985",
   "metadata": {},
   "source": [
    "Both datasets drop the `ms_subclass` column:"
   ]
  },
  {
   "cell_type": "code",
   "execution_count": 5,
   "id": "63667dc0-af6e-40aa-be2e-02559c6a06a2",
   "metadata": {},
   "outputs": [],
   "source": [
    "train.drop(columns=['ms_subclass'], inplace = True)\n",
    "test.drop(columns=['ms_subclass'], inplace = True)"
   ]
  },
  {
   "cell_type": "code",
   "execution_count": 6,
   "id": "9d8b8f7f-1c3f-4418-818c-eefe215b48ff",
   "metadata": {},
   "outputs": [],
   "source": [
    "trn = train._get_numeric_data()\n",
    "tst = test._get_numeric_data()"
   ]
  },
  {
   "cell_type": "markdown",
   "id": "79a11d8a-1655-4ade-b9d6-3902b57ede0b",
   "metadata": {},
   "source": [
    "The EDA process included toying with various combinations of values related to the square footage of different property areas, and the columns generated here reflect this:"
   ]
  },
  {
   "cell_type": "code",
   "execution_count": 7,
   "id": "c6438158-d683-423e-9d70-2088d4a89dfb",
   "metadata": {},
   "outputs": [],
   "source": [
    "trn['total_sf'] = train['1st_flr_sf'] + train['2nd_flr_sf'] + train['total_bsmt_sf']\n",
    "trn['total_bth'] = train['bsmt_full_bath'] + train['bsmt_half_bath'] + train['full_bath'] + train['half_bath']\n",
    "trn['total_bth/sf'] = trn['total_bth'] / trn['total_sf']\n",
    "trn['total_bed/sf'] = trn['bedroom_abvgr'] / trn['total_sf']\n",
    "\n",
    "tst['total_sf'] = test['1st_flr_sf'] + test['2nd_flr_sf'] + test['total_bsmt_sf']\n",
    "tst['total_bth'] = test['bsmt_full_bath'] + test['bsmt_half_bath'] + test['full_bath'] + test['half_bath']\n",
    "tst['total_bth/sf'] = tst['total_bth'] / tst['total_sf']\n",
    "tst['total_bed/sf'] = tst['bedroom_abvgr'] / tst['total_sf']"
   ]
  },
  {
   "cell_type": "markdown",
   "id": "33f9e875-1f2e-4756-bef2-b1b5a6524a60",
   "metadata": {},
   "source": [
    "The survey explored potential logarithmic relationships as well wherever an absence of zero values allowed:"
   ]
  },
  {
   "cell_type": "code",
   "execution_count": 8,
   "id": "b6ac518e-4198-4cea-8a74-037fa23d168e",
   "metadata": {},
   "outputs": [],
   "source": [
    "trn_log = pd.DataFrame()\n",
    "trn_log['sale_price'] = trn['sale_price']\n",
    "\n",
    "for item in trn.columns.tolist():\n",
    "    if 0 not in trn[item].tolist():\n",
    "        trn_log[item] = np.log(trn[item])\n",
    "        \n",
    "tst_log = pd.DataFrame()\n",
    "\n",
    "for item in tst.columns.tolist():\n",
    "    if 0 not in tst[item].tolist():\n",
    "        tst_log[item] = np.log(tst[item])"
   ]
  },
  {
   "cell_type": "markdown",
   "id": "49070176-5bb0-42dd-853c-02ea715c349c",
   "metadata": {},
   "source": [
    "Below, the relationship between neighborhood and selling price is explored. The dictionary receives an index of all neighborhoods, sorted by relative property value, and the following cell writes a [`scatterplot`](../visualizations/05_price_vs_nbhd_idx.png) to the `visualizations` folder. The graph bears witness to a neatly gradated relationship, and neighborhood thus serves a large role in the final model."
   ]
  },
  {
   "cell_type": "code",
   "execution_count": 9,
   "id": "47e973d9-0b31-4915-a376-05f692fe9071",
   "metadata": {},
   "outputs": [],
   "source": [
    "nbdct1 = {}\n",
    "\n",
    "for i in range(len(train.groupby('neighborhood')['sale_price'].mean().sort_values(ascending = False))):\n",
    "    nbdct1[i] = train.groupby('neighborhood')['sale_price'].mean().sort_values(ascending = False)[i]"
   ]
  },
  {
   "cell_type": "code",
   "execution_count": 10,
   "id": "81c41a97-b1a2-4956-91cc-edb2453db0f3",
   "metadata": {},
   "outputs": [],
   "source": [
    "plt.figure(figsize = (9,5))\n",
    "plt.scatter(nbdct1.keys(), nbdct1.values())\n",
    "plt.title('Avg. Property Selling Price vs. Neighborhood Index',fontsize=17)\n",
    "plt.xlabel('Neighborhood Index')\n",
    "plt.ylabel('Avg. Selling Price (in Dollars)')\n",
    "plt.savefig('../visualizations/05_price_vs_nbhd_idx')\n",
    "plt.close();"
   ]
  },
  {
   "cell_type": "markdown",
   "id": "dbb90661-9e81-4a26-9283-9769ab53394a",
   "metadata": {},
   "source": [
    "The function below and its call index each neighborhood according to desirability, allowing for subsequent dummying later on."
   ]
  },
  {
   "cell_type": "code",
   "execution_count": 11,
   "id": "e90303dd-b57d-4c97-a9ab-73b13578a075",
   "metadata": {},
   "outputs": [],
   "source": [
    "def to_nbhd_rank(nbhd):\n",
    "    try:\n",
    "        return nbhd_dict[nbhd]\n",
    "    except:\n",
    "        return 13\n",
    "\n",
    "def to_nbhd_index(rank):\n",
    "    index = 0\n",
    "    \n",
    "    if rank < 3 :\n",
    "        index = 1\n",
    "    elif rank < 8:\n",
    "        index = 2\n",
    "    elif rank < 15:\n",
    "        index = 3\n",
    "    elif rank == 15:\n",
    "        index = 4\n",
    "    elif rank < 24:\n",
    "        index = 5\n",
    "    else:\n",
    "        index = 6\n",
    "    \n",
    "    return index"
   ]
  },
  {
   "cell_type": "code",
   "execution_count": 12,
   "id": "16cef216-2a6e-4c6e-894b-aa8fc4ddd4f3",
   "metadata": {},
   "outputs": [],
   "source": [
    "nbhd_dict = {}\n",
    "for i in range(len(train.groupby('neighborhood')['sale_price'].mean().sort_values(ascending = False))):\n",
    "    nbhd_dict[train.groupby('neighborhood')['sale_price'].mean().sort_values(ascending = False).index[i]] = i\n",
    "    \n",
    "train['nbhd_rank'] = train['neighborhood'].apply(to_nbhd_rank)\n",
    "train['nbhd_rank_idx'] = train['nbhd_rank'].apply(to_nbhd_index)\n",
    "\n",
    "test['nbhd_rank'] = test['neighborhood'].apply(to_nbhd_rank)\n",
    "test['nbhd_rank_idx'] = test['nbhd_rank'].apply(to_nbhd_index)"
   ]
  },
  {
   "cell_type": "markdown",
   "id": "29fe584c-1eff-42a2-838a-dec1593ad222",
   "metadata": {},
   "source": [
    "Similarly, the `sale_type` variable is essentially converted from a word-based string to a set of numerical values."
   ]
  },
  {
   "cell_type": "code",
   "execution_count": 13,
   "id": "fd146884-f278-4dc3-9934-473a47dd7513",
   "metadata": {},
   "outputs": [],
   "source": [
    "def to_sale_rank(sale):\n",
    "    try:\n",
    "        return sale_dict[sale]\n",
    "    except:\n",
    "        return 4"
   ]
  },
  {
   "cell_type": "code",
   "execution_count": 14,
   "id": "8c5d769d-2370-40da-9d1b-b3b17dd98a62",
   "metadata": {},
   "outputs": [],
   "source": [
    "sale_dict = {}\n",
    "for i in range(len(train.groupby('sale_type')['sale_price'].mean().sort_values(ascending = False))):\n",
    "    sale_dict[train.groupby('sale_type')['sale_price'].mean().sort_values(ascending = False).index[i]] = i\n",
    "    \n",
    "trn['sale_code'] = train['sale_type'].apply(to_sale_rank)\n",
    "tst['sale_code'] = test['sale_type'].apply(to_sale_rank)"
   ]
  },
  {
   "cell_type": "markdown",
   "id": "24be69f6-e4b2-4ef3-b707-7316669d572c",
   "metadata": {},
   "source": [
    "Dummies are created for the neighborhood index in both the training and testing data."
   ]
  },
  {
   "cell_type": "code",
   "execution_count": 15,
   "id": "6f6152c4-29be-4b95-8f88-548bf693b990",
   "metadata": {},
   "outputs": [],
   "source": [
    "trn['neighborhood'] = train['neighborhood']\n",
    "trn['nbhd_rank'] = train['nbhd_rank']\n",
    "trn['nbhd_rank_idx'] = train['nbhd_rank_idx']\n",
    "trn = pd.merge( left = trn, \n",
    "                right = pd.get_dummies(trn['nbhd_rank_idx'], prefix = 'nbhd_rank_idx'), \n",
    "                how='inner', \n",
    "                left_index = True, \n",
    "                right_index = True)\n",
    "\n",
    "tst['neighborhood'] = test['neighborhood']\n",
    "tst['nbhd_rank'] = test['nbhd_rank']\n",
    "tst['nbhd_rank_idx'] = test['nbhd_rank_idx']\n",
    "tst = pd.merge( left = tst, \n",
    "                right = pd.get_dummies(tst['nbhd_rank_idx'], prefix = 'nbhd_rank_idx'), \n",
    "                how='inner', \n",
    "                left_index = True, \n",
    "                right_index = True)"
   ]
  },
  {
   "cell_type": "markdown",
   "id": "b5365310-5c02-4a5d-8b4b-ec422e402f7e",
   "metadata": {},
   "source": [
    "Zone type is encoded numerically:"
   ]
  },
  {
   "cell_type": "code",
   "execution_count": 16,
   "id": "25841998-a059-4351-9dcc-b4f0de5cecd8",
   "metadata": {
    "tags": []
   },
   "outputs": [],
   "source": [
    "def to_zone_rank(zone):\n",
    "    try:\n",
    "        return zone_dict[zone]\n",
    "    except:\n",
    "        return 3"
   ]
  },
  {
   "cell_type": "code",
   "execution_count": 17,
   "id": "144f6383-936b-49f3-83d7-377346ccc4e2",
   "metadata": {},
   "outputs": [],
   "source": [
    "zone_dict = {}\n",
    "\n",
    "for i in range(len(train.groupby('ms_zoning')['sale_price'].mean().sort_values(ascending = False))):\n",
    "    zone_dict[train.groupby('ms_zoning')['sale_price'].mean().sort_values(ascending = False).index[i]] = i\n",
    "    \n",
    "trn['zone_code'] = train['ms_zoning'].apply(to_zone_rank)\n",
    "tst['zone_code'] = test['ms_zoning'].apply(to_zone_rank)"
   ]
  },
  {
   "cell_type": "markdown",
   "id": "d68eef90-ca25-41d2-b019-419ee892d6ac",
   "metadata": {},
   "source": [
    "In the tradition of throwing everything at a wall to see what sticks, dummies are created for whether or not a property has central air and whether or not the driveway is paved:"
   ]
  },
  {
   "cell_type": "code",
   "execution_count": 18,
   "id": "d2870801-1df1-4e06-a20a-bf1d6d5d76fe",
   "metadata": {
    "tags": []
   },
   "outputs": [],
   "source": [
    "trn = pd.merge( left = trn, \n",
    "                right = pd.get_dummies(train['central_air'], prefix = 'A/C', drop_first = True), \n",
    "                how='inner', \n",
    "                left_index = True, \n",
    "                right_index = True)\n",
    "\n",
    "tst = pd.merge( left = tst, \n",
    "                right = pd.get_dummies(test['central_air'], prefix = 'A/C', drop_first = True), \n",
    "                how='inner', \n",
    "                left_index = True, \n",
    "                right_index = True)"
   ]
  },
  {
   "cell_type": "code",
   "execution_count": 19,
   "id": "f48a933f-d168-4c3a-a122-584b102a3b75",
   "metadata": {},
   "outputs": [],
   "source": [
    "trn = pd.merge(left = trn, \n",
    "         right = pd.get_dummies(train['paved_drive'], \n",
    "         prefix = 'pvddrv'), how='inner', \n",
    "         left_index = True, right_index = True).drop(columns=['pvddrv_N', 'pvddrv_P'])\n",
    "\n",
    "tst = pd.merge(left = tst, \n",
    "         right = pd.get_dummies(test['paved_drive'], \n",
    "         prefix = 'pvddrv'), how='inner', \n",
    "         left_index = True, right_index = True).drop(columns=['pvddrv_N', 'pvddrv_P'])"
   ]
  },
  {
   "cell_type": "markdown",
   "id": "5800d79d-216d-423f-8e4a-9c1457e23297",
   "metadata": {},
   "source": [
    "Many qualitative variables are numerically encoded for exploration, including land contour and kitchen quality:"
   ]
  },
  {
   "cell_type": "code",
   "execution_count": 20,
   "id": "01f0dced-0db6-4beb-84cd-1988738e9cb0",
   "metadata": {},
   "outputs": [],
   "source": [
    "trn['ex_kitch'] = train['kitchen_qual'].map(lambda x: 1 if x == 'Ex' else 0)\n",
    "trn['is_flat'] = train['land_contour'].map(lambda x: 1 if x == 'Lvl' else 0)\n",
    "trn['func_typ'] = train['functional'].map(lambda x: 1 if x == 'Typ' else 0)\n",
    "trn['ex_ext'] = train['exter_cond'].map(lambda x: 1 if x == 'Ex' else 0)\n",
    "trn['zoning'] = train['ms_zoning'].map(lambda x: 'R' if x == 'FV' or x == 'RH'\n",
    "                                         or x == 'RL' or x == 'RP' or x =='RM' else x)\n",
    "\n",
    "tst['ex_kitch'] = test['kitchen_qual'].map(lambda x: 1 if x == 'Ex' else 0)\n",
    "tst['is_flat'] = test['land_contour'].map(lambda x: 1 if x == 'Lvl' else 0)\n",
    "tst['func_typ'] = test['functional'].map(lambda x: 1 if x == 'Typ' else 0)\n",
    "tst['ex_ext'] = test['exter_cond'].map(lambda x: 1 if x == 'Ex' else 0)\n",
    "tst['zoning'] = test['ms_zoning'].map(lambda x: 'R' if x == 'FV' or x == 'RH'\n",
    "                                         or x == 'RL' or x == 'RP' or x =='RM' else x)"
   ]
  },
  {
   "cell_type": "markdown",
   "id": "1bac2ca6-ba82-45ab-873a-5b4a68270cf2",
   "metadata": {},
   "source": [
    "Zones receive dummy columns in addition to their index:"
   ]
  },
  {
   "cell_type": "code",
   "execution_count": 21,
   "id": "2ab9d869-febd-49f7-b1b9-cf85b9f1f0de",
   "metadata": {},
   "outputs": [],
   "source": [
    "trn = pd.merge( left = trn, \n",
    "                right = pd.get_dummies(trn['zoning'], prefix = 'zne', drop_first = True), \n",
    "                how='inner', \n",
    "                left_index = True, \n",
    "                right_index = True)\n",
    "\n",
    "tst = pd.merge( left = tst, \n",
    "                right = pd.get_dummies(tst['zoning'], prefix = 'zne', drop_first = True), \n",
    "                how='inner', \n",
    "                left_index = True, \n",
    "                right_index = True)"
   ]
  },
  {
   "cell_type": "markdown",
   "id": "5f9ac1ba-53f3-4e1d-9f25-e408e7ab2b7a",
   "metadata": {},
   "source": [
    "Combining information from two columns related to nearby amenities, each dataset receives a single dummy column (by way of adding, dividing, and rounding dummy conversion columns) reflecting whether or not there are notable positive features in the vicinity of a given property. Again, the two intial columns are dummied, then added and divided, so where either column is `True`, a value results that rounds to `1`)."
   ]
  },
  {
   "cell_type": "code",
   "execution_count": 22,
   "id": "36c11b88-8a7e-4e90-bb5d-51faacd33fc9",
   "metadata": {},
   "outputs": [],
   "source": [
    "trn['cond1_A'] = train['condition_1'].map(lambda x: 1 if x == 'PosA' else 0)\n",
    "trn['cond1_N'] = train['condition_1'].map(lambda x: 1 if x == 'PosN' else 0)\n",
    "trn['cond2_A'] = train['condition_2'].map(lambda x: 1 if x == 'PosA' else 0)\n",
    "trn['cond2_N'] = train['condition_2'].map(lambda x: 1 if x == 'PosN' else 0)\n",
    "trn['PosA'] = round((trn['cond1_A'] + trn['cond2_A'])/2)\n",
    "trn['PosN'] = round((trn['cond1_N'] + trn['cond2_N'])/2)\n",
    "trn['pos_a/n'] = round((trn['PosA'] + trn['PosN'])/2)\n",
    "\n",
    "tst['cond1_A'] = test['condition_1'].map(lambda x: 1 if x == 'PosA' else 0)\n",
    "tst['cond1_N'] = test['condition_1'].map(lambda x: 1 if x == 'PosN' else 0)\n",
    "tst['cond2_A'] = test['condition_2'].map(lambda x: 1 if x == 'PosA' else 0)\n",
    "tst['cond2_N'] = test['condition_2'].map(lambda x: 1 if x == 'PosN' else 0)\n",
    "tst['PosA'] = round((tst['cond1_A'] + tst['cond2_A'])/2)\n",
    "tst['PosN'] = round((tst['cond1_N'] + tst['cond2_N'])/2)\n",
    "tst['pos_a/n'] = round((tst['PosA'] + tst['PosN'])/2)"
   ]
  },
  {
   "cell_type": "markdown",
   "id": "f243a4c5-2ee3-4283-8ce2-a9e8b5af5fdc",
   "metadata": {},
   "source": [
    "More everything-and-the-kitchen-sink Booleans for consideration. There was often a great deal of overlap in the types of information various columns reflected, with the intention of fine-tuning the final model as best as possible."
   ]
  },
  {
   "cell_type": "code",
   "execution_count": 23,
   "id": "265f9f2d-4e37-402c-b41f-3d567da211c5",
   "metadata": {},
   "outputs": [],
   "source": [
    "trn['has_pool'] = train['pool_area'].map(lambda x: 1 if x > 0 else 0)\n",
    "trn['good_pool'] = train['pool_qc'].map(lambda x: 1 if x == 'Ex' or x == 'Gd' else 0)\n",
    "trn['sale_high'] = train['sale_type'].map(lambda x: 1 if x == 'New' or x == 'Con' else 0)\n",
    "trn['good_roof'] = train['roof_style'].map(lambda x: 1 if x =='Hip' else 0)\n",
    "trn['2story'] = trn['2nd_flr_sf'].map(lambda x: 1 if x > 0 else 0)\n",
    "trn['feats'] = train['misc_feature'].map(lambda x: 0 if x =='Shed' or x =='None' else 1)\n",
    "trn['good_bsmt'] = train['bsmt_cond'].map(lambda x: 0 if x =='Ex' or x =='Gd' else 1)\n",
    "trn['good_fire'] = train['fireplace_qu'].map(lambda x: 0 if x =='Ex' or x =='Gd' else 1)\n",
    "trn['good_grg'] = train['garage_cond'].map(lambda x: 0 if x =='Ex' or x =='Gd' or x == 'Fair' else 1)\n",
    "\n",
    "tst['has_pool'] = test['pool_area'].map(lambda x: 1 if x > 0 else 0)\n",
    "tst['good_pool'] = test['pool_qc'].map(lambda x: 1 if x == 'Ex' or x == 'Gd' else 0)\n",
    "tst['sale_high'] = test['sale_type'].map(lambda x: 1 if x == 'New' or x == 'Con' else 0)\n",
    "tst['good_roof'] = test['roof_style'].map(lambda x: 1 if x =='Hip' else 0)\n",
    "tst['2story'] = tst['2nd_flr_sf'].map(lambda x: 1 if x > 0 else 0)\n",
    "tst['feats'] = test['misc_feature'].map(lambda x: 0 if x =='Shed' or x =='None' else 1)\n",
    "tst['good_bsmt'] = test['bsmt_cond'].map(lambda x: 0 if x =='Ex' or x =='Gd' else 1)\n",
    "tst['good_fire'] = test['fireplace_qu'].map(lambda x: 0 if x =='Ex' or x =='Gd' else 1)\n",
    "tst['good_grg'] = test['garage_cond'].map(lambda x: 0 if x =='Ex' or x =='Gd' or x == 'Fair' else 1)"
   ]
  },
  {
   "cell_type": "markdown",
   "id": "40894083-844a-4e38-b673-85ac089cfdad",
   "metadata": {},
   "source": [
    "As mentioned in [`the primary summary notebook`](../main.ipynb), there was some experimenting with gradations of dummying based on the unique distribution of data for `year_built` and `year_remod/add`. Ultimatey, only the dummy columns related to \"newness\" were used. That is, whether or not a property was built or remodeled since the year 2000 became a factor in the final model."
   ]
  },
  {
   "cell_type": "code",
   "execution_count": 24,
   "id": "f5544e1e-26ad-4637-8e0e-7d02b1be5b1e",
   "metadata": {
    "tags": []
   },
   "outputs": [],
   "source": [
    "trn['is_new'] = trn['year_built'].map(lambda x:  1 if x > 2000 else 0 )\n",
    "trn = pd.merge( left = trn, \n",
    "                right = pd.get_dummies(trn['is_new'], prefix = 'is_new'), \n",
    "                how='inner', \n",
    "                left_index = True, \n",
    "                right_index = True)\n",
    "trn['old_val'] = trn['year_built'] * trn['is_new_0']\n",
    "trn.drop(columns = ['is_new_0'], inplace = True)\n",
    "\n",
    "tst['is_new'] = tst['year_built'].map(lambda x:  1 if x > 2000 else 0 )\n",
    "tst = pd.merge( left = tst, \n",
    "                right = pd.get_dummies(trn['is_new'], prefix = 'is_new'), \n",
    "                how='inner', \n",
    "                left_index = True, \n",
    "                right_index = True)\n",
    "tst['old_val'] = tst['year_built'] * tst['is_new_0']\n",
    "tst.drop(columns = ['is_new_0'], inplace = True)"
   ]
  },
  {
   "cell_type": "code",
   "execution_count": 25,
   "id": "5a7afdbd-d383-4c1b-8bed-b5199b983f56",
   "metadata": {},
   "outputs": [],
   "source": [
    "trn['is_new_rem'] = trn['year_remod/add'].map(lambda x:  1 if x > 2000 else 0 )\n",
    "trn = pd.merge( left = trn, \n",
    "                right = pd.get_dummies(trn['is_new_rem'], prefix = 'is_new_rem'), \n",
    "                how='inner', \n",
    "                left_index = True, \n",
    "                right_index = True)\n",
    "trn['old_rem'] = trn['year_built'] * trn['is_new_rem_0']\n",
    "trn.drop(columns = ['is_new_rem_0'], inplace = True)\n",
    "\n",
    "tst['is_new_rem'] = tst['year_remod/add'].map(lambda x:  1 if x > 2000 else 0 )\n",
    "tst = pd.merge( left = tst, \n",
    "                right = pd.get_dummies(tst['is_new_rem'], prefix = 'is_new_rem'), \n",
    "                how='inner', \n",
    "                left_index = True, \n",
    "                right_index = True)\n",
    "tst['old_rem'] = tst['year_built'] * tst['is_new_rem_0']\n",
    "tst.drop(columns = ['is_new_rem_0'], inplace = True)"
   ]
  },
  {
   "cell_type": "markdown",
   "id": "6fe73b57-d591-4d6d-92fe-fedf908aebcf",
   "metadata": {},
   "source": [
    "The catch-all function here allows numerical encoding of the quality/condition of various aspects of each property, allowing for meaningful evaluation by the linear regression model."
   ]
  },
  {
   "cell_type": "code",
   "execution_count": 26,
   "id": "73122edc-5b2b-4173-a24d-cdaf25c24cf7",
   "metadata": {},
   "outputs": [],
   "source": [
    "def cond_ind(x):\n",
    "    if x == 'Ex':\n",
    "        return 5\n",
    "    elif x == 'Gd':\n",
    "        return 4\n",
    "    elif x == 'Fa':\n",
    "        return 3\n",
    "    elif x == 'TA':\n",
    "        return 2\n",
    "    elif x == 'Po':\n",
    "        return 1\n",
    "    else:\n",
    "        return 0"
   ]
  },
  {
   "cell_type": "markdown",
   "id": "ea398d21-8366-4679-8e53-dd4b78955859",
   "metadata": {},
   "source": [
    "Here the quality/condition of the exterior, the basement, the fireplace, the garage, the pool, and the kitchen are encoded with the above function respectively."
   ]
  },
  {
   "cell_type": "code",
   "execution_count": 27,
   "id": "5d002804-7b9a-41c4-910c-023c56f1f8e5",
   "metadata": {},
   "outputs": [],
   "source": [
    "trn['ext_code'] = train['exter_cond'].apply(cond_ind)\n",
    "trn['bsmt_code'] = train['bsmt_cond'].apply(cond_ind)\n",
    "trn['fire_code'] = train['fireplace_qu'].apply(cond_ind)\n",
    "trn['grg_code'] = train['garage_cond'].apply(cond_ind)\n",
    "trn['pool_code'] = train['pool_qc'].apply(cond_ind)\n",
    "trn['ktch_code'] = train['kitchen_qual'].apply(cond_ind)\n",
    "\n",
    "tst['ext_code'] = test['exter_cond'].apply(cond_ind)\n",
    "tst['bsmt_code'] = test['bsmt_cond'].apply(cond_ind)\n",
    "tst['fire_code'] = test['fireplace_qu'].apply(cond_ind)\n",
    "tst['grg_code'] = test['garage_cond'].apply(cond_ind)\n",
    "tst['pool_code'] = test['pool_qc'].apply(cond_ind)\n",
    "tst['ktch_code'] = test['kitchen_qual'].apply(cond_ind)"
   ]
  },
  {
   "cell_type": "markdown",
   "id": "ae6f27fa-641a-4974-96ac-dcfb3e2a3af9",
   "metadata": {},
   "source": [
    "Values of `0` in the test data allowed only one logarithmic value to make it to the winners' circle:"
   ]
  },
  {
   "cell_type": "code",
   "execution_count": 28,
   "id": "803cdca2-9efb-4460-9b7b-1c8c1718ffbb",
   "metadata": {},
   "outputs": [],
   "source": [
    "trn['log_qual'] = trn_log['overall_qual']\n",
    "tst['log_qual'] = tst_log['overall_qual']"
   ]
  },
  {
   "cell_type": "markdown",
   "id": "d4e6ee98-421c-44f7-83e9-98741865ca74",
   "metadata": {},
   "source": [
    "As in the summary notebook, a function is created here for testing purposes. Essentially, for any set of independent variables and their dependent variable, the function runs a linear regression model (complete with a train-test-split and cross-validation mechanism) and tracks relevant metrics. Because results can vary somewhat depending on the throw of the dice, linear regression is run five times, with the metrics being logged in their respective lists, and the averages are printed for the user."
   ]
  },
  {
   "cell_type": "code",
   "execution_count": 29,
   "id": "84c498c3-9567-415e-bd9a-96e45ac41770",
   "metadata": {},
   "outputs": [],
   "source": [
    "def lin_reg(X, y):\n",
    "    lr = LinearRegression()\n",
    "\n",
    "    r2_train_list = []\n",
    "    r2_test_list = []\n",
    "    r2_diff_list = []\n",
    "    rmse_list = []\n",
    "    cv_mean_list = []\n",
    "    \n",
    "    for n in range(5):\n",
    "        X_train, X_test, y_train, y_test = train_test_split(X, y)\n",
    "        lr.fit(X_train, y_train)\n",
    "        r2_train_list.append(lr.score(X_train, y_train))\n",
    "        r2_test_list.append(lr.score(X_test, y_test))\n",
    "        r2_diff_list.append(r2_train_list[-1] - r2_test_list[-1])\n",
    "        cv_mean_list.append(cross_val_score(estimator=lr, X = X_train, y= y_train, cv = 5, n_jobs = -1).mean())\n",
    "        residuals = y_test - lr.predict(X_test)\n",
    "        rmse_list.append((sum(residuals**2)/len(residuals))**0.5)\n",
    "    \n",
    "    print('For the training data, the mean score is ', pd.Series(r2_train_list).mean(), ' and a median of ', pd.Series(r2_train_list).median(),\n",
    "         ' with a standard deviation of ', pd.Series(r2_train_list).std(), ' a minimum of ', \n",
    "          pd.Series(r2_train_list).min(), ' and a maximum of ', pd.Series(r2_train_list).max(), '.\\n')\n",
    "\n",
    "    print('For the testing data, the mean score is ', pd.Series(r2_test_list).mean(), ' and a median of ', pd.Series(r2_test_list).median(),\n",
    "         ' with a standard deviation of ', pd.Series(r2_test_list).std(), ' a minimum of ', \n",
    "          pd.Series(r2_test_list).min(), ' and a maximum of ', pd.Series(r2_test_list).max(), '.\\n')\n",
    "\n",
    "    print('For cross validation, the mean of means is ', pd.Series(cv_mean_list).mean(), ' and the median is ', pd.Series(cv_mean_list).median(),\n",
    "         ' with a standard deviation of ', pd.Series(cv_mean_list).std(), ' a minimum of ', \n",
    "          pd.Series(cv_mean_list).min(), ' and a maximum of ', pd.Series(cv_mean_list).max(), '.\\n')\n",
    "    \n",
    "    print('For the train to test difference, the mean difference is ', pd.Series(r2_diff_list).mean(), ' and a median of ', pd.Series(r2_diff_list).median(),\n",
    "         ' with a standard deviation of ', pd.Series(r2_diff_list).std(), ' a minimum of ', \n",
    "          pd.Series(r2_diff_list).min(), ' and a maximum of ', pd.Series(r2_diff_list).max(), '.\\n')\n",
    "\n",
    "    print('For the RMSE, the mean is ', pd.Series(rmse_list).mean(), ' and a median of ', pd.Series(rmse_list).median(),\n",
    "         ' with a standard deviation of ', pd.Series(rmse_list).std(), ' a minimum of ', \n",
    "          pd.Series(rmse_list).min(), ' and a maximum of ', pd.Series(rmse_list).max(), '.\\n')"
   ]
  },
  {
   "cell_type": "markdown",
   "id": "e6a2011e-7d25-4bd0-8d0a-25b25c5bb704",
   "metadata": {},
   "source": [
    "The stages through which the model for this survey developed are described in greater detail in the summary notebook, but ultimately, values related to space, age, neighborhood, amenities, and condition are ultimately given the most treatment. Below are the variables that the model considers in its final form:"
   ]
  },
  {
   "cell_type": "code",
   "execution_count": 30,
   "id": "0f5bbf16-4b16-4db9-afad-956badb7c770",
   "metadata": {},
   "outputs": [
    {
     "name": "stdout",
     "output_type": "stream",
     "text": [
      "For the training data, the mean score is  0.840946816860713  and a median of  0.8423253202641888  with a standard deviation of  0.004386636492752717  a minimum of  0.8336700948219482  and a maximum of  0.8444026765889181 .\n",
      "\n",
      "For the testing data, the mean score is  0.8603744678229445  and a median of  0.8546519950937538  with a standard deviation of  0.013129568455952494  a minimum of  0.8515241504503652  and a maximum of  0.8828113225253744 .\n",
      "\n",
      "For cross validation, the mean of means is  0.8234176545083587  and the median is  0.8226350736442696  with a standard deviation of  0.005503047961854022  a minimum of  0.8158302016590945  and a maximum of  0.829635671371625 .\n",
      "\n",
      "For the train to test difference, the mean difference is  -0.01942765096223158  and a median of  -0.012326674829564954  with a standard deviation of  0.01749883663450063  a minimum of  -0.049141227703426216  and a maximum of  -0.007121473861447125 .\n",
      "\n",
      "For the RMSE, the mean is  29857.034576744772  and a median of  29809.223239912757  with a standard deviation of  1831.4546270329288  a minimum of  27192.55533450836  and a maximum of  31990.335688848678 .\n",
      "\n"
     ]
    }
   ],
   "source": [
    "lin_reg(trn[['1st_flr_sf', 'total_bsmt_sf', '2nd_flr_sf',\n",
    "            'garage_area', 'overall_qual', 'mas_vnr_area', 'gr_liv_area',\n",
    "            'bsmt_code', 'grg_code', 'sale_code',\n",
    "             'nbhd_rank_idx_1', 'nbhd_rank_idx_2', 'nbhd_rank_idx_3', 'nbhd_rank_idx_4', 'nbhd_rank_idx_5', 'nbhd_rank_idx_6',\n",
    "            'total_bth', 'pos_a/n', 'ex_kitch', 'log_qual', 'is_new', 'is_new_rem']],\n",
    "        trn['sale_price'])"
   ]
  },
  {
   "cell_type": "markdown",
   "id": "f9b317bd-e705-41dd-a684-bc16984d1687",
   "metadata": {},
   "source": [
    "Among \"improvable\" variables, kitchen condition and firepace condition are the most significant."
   ]
  },
  {
   "cell_type": "code",
   "execution_count": 31,
   "id": "ee9cc9c0-3146-47a7-9ced-1f032d4e9e6b",
   "metadata": {},
   "outputs": [
    {
     "data": {
      "image/png": "[encoded data removed]",
      "text/plain": [
       "<Figure size 432x288 with 2 Axes>"
      ]
     },
     "metadata": {
      "needs_background": "light"
     },
     "output_type": "display_data"
    }
   ],
   "source": [
    "qual_codes = trn[['sale_price', 'pool_code', 'grg_code', 'bsmt_code', 'fire_code', 'ext_code', \n",
    "                  'zone_code', 'nbhd_rank', 'ktch_code']]\n",
    "sns.heatmap(qual_codes.corr(), annot=True, cmap='coolwarm');"
   ]
  },
  {
   "cell_type": "markdown",
   "id": "03cc8280-82a5-4f3e-87c5-9466a1bda94c",
   "metadata": {},
   "source": [
    "Below, the model is run for the test dataset in compliance with Kaggle. All relevant steps have been performed identically on all data, and the estimates generate smoothly:"
   ]
  },
  {
   "cell_type": "code",
   "execution_count": 32,
   "id": "d1eee810-0466-46b9-9ce2-414b674d0304",
   "metadata": {},
   "outputs": [
    {
     "data": {
      "text/html": [
       "<div>\n",
       "<style scoped>\n",
       "    .dataframe tbody tr th:only-of-type {\n",
       "        vertical-align: middle;\n",
       "    }\n",
       "\n",
       "    .dataframe tbody tr th {\n",
       "        vertical-align: top;\n",
       "    }\n",
       "\n",
       "    .dataframe thead th {\n",
       "        text-align: right;\n",
       "    }\n",
       "</style>\n",
       "<table border=\"1\" class=\"dataframe\">\n",
       "  <thead>\n",
       "    <tr style=\"text-align: right;\">\n",
       "      <th></th>\n",
       "      <th>id</th>\n",
       "      <th>estimates</th>\n",
       "    </tr>\n",
       "  </thead>\n",
       "  <tbody>\n",
       "    <tr>\n",
       "      <th>0</th>\n",
       "      <td>2658</td>\n",
       "      <td>151648.812499</td>\n",
       "    </tr>\n",
       "    <tr>\n",
       "      <th>1</th>\n",
       "      <td>2718</td>\n",
       "      <td>183752.919258</td>\n",
       "    </tr>\n",
       "    <tr>\n",
       "      <th>2</th>\n",
       "      <td>2414</td>\n",
       "      <td>206243.229876</td>\n",
       "    </tr>\n",
       "    <tr>\n",
       "      <th>3</th>\n",
       "      <td>1989</td>\n",
       "      <td>115151.597682</td>\n",
       "    </tr>\n",
       "    <tr>\n",
       "      <th>4</th>\n",
       "      <td>625</td>\n",
       "      <td>175244.795022</td>\n",
       "    </tr>\n",
       "    <tr>\n",
       "      <th>...</th>\n",
       "      <td>...</td>\n",
       "      <td>...</td>\n",
       "    </tr>\n",
       "    <tr>\n",
       "      <th>873</th>\n",
       "      <td>1662</td>\n",
       "      <td>198144.208579</td>\n",
       "    </tr>\n",
       "    <tr>\n",
       "      <th>874</th>\n",
       "      <td>1234</td>\n",
       "      <td>188488.679650</td>\n",
       "    </tr>\n",
       "    <tr>\n",
       "      <th>875</th>\n",
       "      <td>1373</td>\n",
       "      <td>119404.814385</td>\n",
       "    </tr>\n",
       "    <tr>\n",
       "      <th>876</th>\n",
       "      <td>1672</td>\n",
       "      <td>99342.795871</td>\n",
       "    </tr>\n",
       "    <tr>\n",
       "      <th>877</th>\n",
       "      <td>1939</td>\n",
       "      <td>117133.353168</td>\n",
       "    </tr>\n",
       "  </tbody>\n",
       "</table>\n",
       "<p>878 rows × 2 columns</p>\n",
       "</div>"
      ],
      "text/plain": [
       "       id      estimates\n",
       "0    2658  151648.812499\n",
       "1    2718  183752.919258\n",
       "2    2414  206243.229876\n",
       "3    1989  115151.597682\n",
       "4     625  175244.795022\n",
       "..    ...            ...\n",
       "873  1662  198144.208579\n",
       "874  1234  188488.679650\n",
       "875  1373  119404.814385\n",
       "876  1672   99342.795871\n",
       "877  1939  117133.353168\n",
       "\n",
       "[878 rows x 2 columns]"
      ]
     },
     "execution_count": 32,
     "metadata": {},
     "output_type": "execute_result"
    }
   ],
   "source": [
    "lr = LinearRegression()\n",
    "lr.fit(trn[['1st_flr_sf', 'total_bsmt_sf', '2nd_flr_sf',\n",
    "            'garage_area', 'overall_qual', 'mas_vnr_area', 'gr_liv_area',\n",
    "            'bsmt_code', 'grg_code', 'sale_code',\n",
    "             'nbhd_rank_idx_1', 'nbhd_rank_idx_2', 'nbhd_rank_idx_3', 'nbhd_rank_idx_4', 'nbhd_rank_idx_5', 'nbhd_rank_idx_6',\n",
    "            'total_bth', 'pos_a/n', 'ex_kitch', 'log_qual', 'is_new', 'is_new_rem']],\n",
    "        trn['sale_price'])\n",
    "\n",
    "tst['estimates'] = lr.predict(tst[['1st_flr_sf', 'total_bsmt_sf', '2nd_flr_sf',\n",
    "            'garage_area', 'overall_qual', 'mas_vnr_area', 'gr_liv_area',\n",
    "            'bsmt_code', 'grg_code', 'sale_code',\n",
    "             'nbhd_rank_idx_1', 'nbhd_rank_idx_2', 'nbhd_rank_idx_3', 'nbhd_rank_idx_4', 'nbhd_rank_idx_5', 'nbhd_rank_idx_6',\n",
    "            'total_bth', 'pos_a/n', 'ex_kitch', 'log_qual', 'is_new', 'is_new_rem']])\n",
    "tst['id'] = pd.read_csv('../datasets/main_test.csv')['id']\n",
    "\n",
    "tst[['id', 'estimates']]"
   ]
  },
  {
   "cell_type": "markdown",
   "id": "fb1868c0-1f5f-4bb4-b35f-37462f4b65f8",
   "metadata": {},
   "source": [
    "The newly revised test dataset is passed to an external file for some [`light cosmetic changes`](../appendices/03_kaggle.ipynb) as is the final training dataset from which the summary notebook derives its results."
   ]
  },
  {
   "cell_type": "code",
   "execution_count": 33,
   "id": "4882acd1-b75f-4c46-a815-c7f69bafcac7",
   "metadata": {},
   "outputs": [],
   "source": [
    "tst.to_csv('../datasets/base_submit.csv') \n",
    "trn.to_csv('../datasets/final_train.csv')"
   ]
  }
 ],
 "metadata": {
  "kernelspec": {
   "display_name": "Python 3",
   "language": "python",
   "name": "python3"
  },
  "language_info": {
   "codemirror_mode": {
    "name": "ipython",
    "version": 3
   },
   "file_extension": ".py",
   "mimetype": "text/x-python",
   "name": "python",
   "nbconvert_exporter": "python",
   "pygments_lexer": "ipython3",
   "version": "3.8.8"
  }
 },
 "nbformat": 4,
 "nbformat_minor": 5
}
