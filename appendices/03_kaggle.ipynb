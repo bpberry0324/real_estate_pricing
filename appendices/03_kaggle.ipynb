{
 "cells": [
  {
   "cell_type": "markdown",
   "id": "22a3b3d2-2b35-4384-8fc0-72694c30d74c",
   "metadata": {},
   "source": [
    "## Appendix III: Kaggle Submission"
   ]
  },
  {
   "cell_type": "markdown",
   "id": "7a0e4eba-71b8-440d-bf31-0571966030f8",
   "metadata": {},
   "source": [
    "Below are a few cells that render the test dataset into the Kaggle-specified format."
   ]
  },
  {
   "cell_type": "markdown",
   "id": "6f0847c4-87dd-45b7-a908-1d5e977c87bb",
   "metadata": {},
   "source": [
    "Standard import:"
   ]
  },
  {
   "cell_type": "code",
   "execution_count": 1,
   "id": "3a083d30-c0d3-48df-bec8-a67e6d6dbba5",
   "metadata": {
    "tags": []
   },
   "outputs": [],
   "source": [
    "import pandas as pd"
   ]
  },
  {
   "cell_type": "markdown",
   "id": "c681d1e7-0456-42d3-ba7b-164efec05d5c",
   "metadata": {},
   "source": [
    "Read, rename, reconfigure, and resubmit:"
   ]
  },
  {
   "cell_type": "code",
   "execution_count": 2,
   "id": "eb571d11-a1fe-4026-b3ae-778179fe9a49",
   "metadata": {},
   "outputs": [],
   "source": [
    "kaggle = pd.read_csv('../datasets/base_submit.csv')[['id', 'estimates']]"
   ]
  },
  {
   "cell_type": "code",
   "execution_count": 3,
   "id": "d1d0a7ad-a857-4960-81df-e56c9f7d939f",
   "metadata": {},
   "outputs": [],
   "source": [
    "kaggle['SalePrice'] = kaggle['estimates']"
   ]
  },
  {
   "cell_type": "code",
   "execution_count": 4,
   "id": "cc30db62-b1aa-4301-b2f7-2453a02cd5e3",
   "metadata": {},
   "outputs": [],
   "source": [
    "kaggle.drop(columns = 'estimates', inplace = True)"
   ]
  },
  {
   "cell_type": "code",
   "execution_count": 5,
   "id": "feeb3baf-c811-4ca2-9ee0-a931fe16a632",
   "metadata": {
    "tags": []
   },
   "outputs": [],
   "source": [
    "kaggle.to_csv('../datasets/base_submit.csv', index = False)"
   ]
  },
  {
   "cell_type": "markdown",
   "id": "12ec423f-8a44-471c-92e2-5345dbd3246b",
   "metadata": {},
   "source": [
    "The model built during the course of this project scores a root mean squared error of $21,925.89 on the testing data, reduced by roughly $47,000 from the baseline, essentially thirding the amount."
   ]
  },
  {
   "cell_type": "markdown",
   "id": "2bc43cba-57d7-4d9f-b91d-611d22d6eed8",
   "metadata": {},
   "source": [
    "<img src='../images/kaggle_results.png'>"
   ]
  }
 ],
 "metadata": {
  "kernelspec": {
   "display_name": "Python 3",
   "language": "python",
   "name": "python3"
  },
  "language_info": {
   "codemirror_mode": {
    "name": "ipython",
    "version": 3
   },
   "file_extension": ".py",
   "mimetype": "text/x-python",
   "name": "python",
   "nbconvert_exporter": "python",
   "pygments_lexer": "ipython3",
   "version": "3.8.8"
  }
 },
 "nbformat": 4,
 "nbformat_minor": 5
}
